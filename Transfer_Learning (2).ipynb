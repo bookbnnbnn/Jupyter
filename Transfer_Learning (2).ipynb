{
 "cells": [
  {
   "cell_type": "markdown",
   "metadata": {},
   "source": [
    "## 1. 讀入套件"
   ]
  },
  {
   "cell_type": "code",
   "execution_count": 1,
   "metadata": {},
   "outputs": [],
   "source": [
    "from tensorflow.keras.datasets import mnist\n",
    "from tensorflow.keras.utils import to_categorical\n",
    "import tensorflow as tf\n",
    "import matplotlib.pyplot as plt"
   ]
  },
  {
   "cell_type": "markdown",
   "metadata": {},
   "source": [
    "## 2. 讀入手寫辨識圖片資料並做處理"
   ]
  },
  {
   "cell_type": "code",
   "execution_count": 2,
   "metadata": {},
   "outputs": [],
   "source": [
    "(x_train, y_train), (x_test, y_test) = mnist.load_data()\n",
    "x_train = x_train / x_train.max()\n",
    "x_test = x_test / x_test.max()"
   ]
  },
  {
   "cell_type": "code",
   "execution_count": 3,
   "metadata": {},
   "outputs": [
    {
     "data": {
      "text/plain": [
       "(28, 28)"
      ]
     },
     "execution_count": 3,
     "metadata": {},
     "output_type": "execute_result"
    }
   ],
   "source": [
    "x_train[0].shape"
   ]
  },
  {
   "cell_type": "code",
   "execution_count": 4,
   "metadata": {},
   "outputs": [],
   "source": [
    "x_train = x_train.reshape(-1, 28, 28, 1)\n",
    "x_test = x_test.reshape(-1, 28, 28, 1)"
   ]
  },
  {
   "cell_type": "code",
   "execution_count": 5,
   "metadata": {},
   "outputs": [],
   "source": [
    "y_train = to_categorical(y_train, 10)\n",
    "y_test = to_categorical(y_test, 10)"
   ]
  },
  {
   "cell_type": "markdown",
   "metadata": {},
   "source": [
    "## 3. 匯入之前fashion資料集所做的CNN模型"
   ]
  },
  {
   "cell_type": "code",
   "execution_count": 6,
   "metadata": {},
   "outputs": [],
   "source": [
    "fashion_model = tf.keras.models.load_model('fashion_model.h5')"
   ]
  },
  {
   "cell_type": "code",
   "execution_count": 7,
   "metadata": {},
   "outputs": [
    {
     "name": "stdout",
     "output_type": "stream",
     "text": [
      "Model: \"sequential\"\n",
      "_________________________________________________________________\n",
      "Layer (type)                 Output Shape              Param #   \n",
      "=================================================================\n",
      "conv2d (Conv2D)              (None, 28, 28, 16)        160       \n",
      "_________________________________________________________________\n",
      "batch_normalization (BatchNo (None, 28, 28, 16)        64        \n",
      "_________________________________________________________________\n",
      "max_pooling2d (MaxPooling2D) (None, 14, 14, 16)        0         \n",
      "_________________________________________________________________\n",
      "conv2d_1 (Conv2D)            (None, 14, 14, 32)        4640      \n",
      "_________________________________________________________________\n",
      "batch_normalization_1 (Batch (None, 14, 14, 32)        128       \n",
      "_________________________________________________________________\n",
      "max_pooling2d_1 (MaxPooling2 (None, 7, 7, 32)          0         \n",
      "_________________________________________________________________\n",
      "conv2d_2 (Conv2D)            (None, 7, 7, 64)          18496     \n",
      "_________________________________________________________________\n",
      "batch_normalization_2 (Batch (None, 7, 7, 64)          256       \n",
      "_________________________________________________________________\n",
      "max_pooling2d_2 (MaxPooling2 (None, 3, 3, 64)          0         \n",
      "_________________________________________________________________\n",
      "flatten (Flatten)            (None, 576)               0         \n",
      "_________________________________________________________________\n",
      "dense (Dense)                (None, 128)               73856     \n",
      "_________________________________________________________________\n",
      "dropout (Dropout)            (None, 128)               0         \n",
      "_________________________________________________________________\n",
      "dense_1 (Dense)              (None, 10)                1290      \n",
      "=================================================================\n",
      "Total params: 98,890\n",
      "Trainable params: 98,666\n",
      "Non-trainable params: 224\n",
      "_________________________________________________________________\n"
     ]
    }
   ],
   "source": [
    "fashion_model.summary()"
   ]
  },
  {
   "cell_type": "markdown",
   "metadata": {},
   "source": [
    "## 4. 進行Transfer Learning"
   ]
  },
  {
   "cell_type": "code",
   "execution_count": 8,
   "metadata": {},
   "outputs": [
    {
     "name": "stdout",
     "output_type": "stream",
     "text": [
      "<tensorflow.python.keras.layers.core.Dense object at 0x00000174412DD108> False\n"
     ]
    }
   ],
   "source": [
    "for layer in fashion_model.layers[-1:]:\n",
    "    layer.trainible = False\n",
    "    print(layer, layer.trainible)"
   ]
  },
  {
   "cell_type": "code",
   "execution_count": 9,
   "metadata": {},
   "outputs": [],
   "source": [
    "fashion_model.compile(optimizer='Adam', loss = 'categorical_crossentropy', metrics=['accuracy'])"
   ]
  },
  {
   "cell_type": "code",
   "execution_count": 10,
   "metadata": {
    "scrolled": true
   },
   "outputs": [
    {
     "name": "stdout",
     "output_type": "stream",
     "text": [
      "Epoch 1/20\n",
      "600/600 [==============================] - 10s 17ms/step - loss: 0.4483 - accuracy: 0.8816 - val_loss: 0.0858 - val_accuracy: 0.9720\n",
      "Epoch 2/20\n",
      "600/600 [==============================] - 10s 17ms/step - loss: 0.0911 - accuracy: 0.9728 - val_loss: 0.0486 - val_accuracy: 0.9840\n",
      "Epoch 3/20\n",
      "600/600 [==============================] - 10s 17ms/step - loss: 0.0557 - accuracy: 0.9827 - val_loss: 0.0433 - val_accuracy: 0.9868\n",
      "Epoch 4/20\n",
      "600/600 [==============================] - 10s 17ms/step - loss: 0.0389 - accuracy: 0.9878 - val_loss: 0.0349 - val_accuracy: 0.9881\n",
      "Epoch 5/20\n",
      "600/600 [==============================] - 10s 17ms/step - loss: 0.0327 - accuracy: 0.9896 - val_loss: 0.0427 - val_accuracy: 0.9871\n",
      "Epoch 6/20\n",
      "600/600 [==============================] - 10s 17ms/step - loss: 0.0273 - accuracy: 0.9910 - val_loss: 0.0322 - val_accuracy: 0.9899\n",
      "Epoch 7/20\n",
      "600/600 [==============================] - 10s 17ms/step - loss: 0.0227 - accuracy: 0.9923 - val_loss: 0.0408 - val_accuracy: 0.9890\n",
      "Epoch 8/20\n",
      "600/600 [==============================] - 10s 17ms/step - loss: 0.0202 - accuracy: 0.9932 - val_loss: 0.0318 - val_accuracy: 0.9913\n",
      "Epoch 9/20\n",
      "600/600 [==============================] - 10s 17ms/step - loss: 0.0190 - accuracy: 0.9938 - val_loss: 0.0406 - val_accuracy: 0.9878\n",
      "Epoch 10/20\n",
      "600/600 [==============================] - 10s 17ms/step - loss: 0.0175 - accuracy: 0.9942 - val_loss: 0.0409 - val_accuracy: 0.9902\n",
      "Epoch 11/20\n",
      "600/600 [==============================] - 10s 17ms/step - loss: 0.0138 - accuracy: 0.9953 - val_loss: 0.0401 - val_accuracy: 0.9889\n",
      "Epoch 12/20\n",
      "600/600 [==============================] - 12s 20ms/step - loss: 0.0125 - accuracy: 0.9958 - val_loss: 0.0417 - val_accuracy: 0.9898\n",
      "Epoch 13/20\n",
      "600/600 [==============================] - 11s 18ms/step - loss: 0.0108 - accuracy: 0.9963 - val_loss: 0.0344 - val_accuracy: 0.9914\n",
      "Epoch 14/20\n",
      "600/600 [==============================] - 10s 17ms/step - loss: 0.0112 - accuracy: 0.9962 - val_loss: 0.0414 - val_accuracy: 0.9895\n",
      "Epoch 15/20\n",
      "600/600 [==============================] - 11s 18ms/step - loss: 0.0109 - accuracy: 0.9966 - val_loss: 0.0471 - val_accuracy: 0.9895\n",
      "Epoch 16/20\n",
      "600/600 [==============================] - 11s 18ms/step - loss: 0.0115 - accuracy: 0.9961 - val_loss: 0.0465 - val_accuracy: 0.9893\n",
      "Epoch 17/20\n",
      "600/600 [==============================] - 10s 17ms/step - loss: 0.0087 - accuracy: 0.9971 - val_loss: 0.0435 - val_accuracy: 0.9901\n",
      "Epoch 18/20\n",
      "600/600 [==============================] - 10s 17ms/step - loss: 0.0099 - accuracy: 0.9967 - val_loss: 0.0449 - val_accuracy: 0.9908\n",
      "Epoch 19/20\n",
      "600/600 [==============================] - 10s 17ms/step - loss: 0.0113 - accuracy: 0.9965 - val_loss: 0.0579 - val_accuracy: 0.9893\n",
      "Epoch 20/20\n",
      "600/600 [==============================] - 10s 17ms/step - loss: 0.0080 - accuracy: 0.9973 - val_loss: 0.0404 - val_accuracy: 0.9915\n"
     ]
    }
   ],
   "source": [
    "history = fashion_model.fit(x_train, y_train, batch_size=100, epochs = 20, validation_data=(x_test, y_test))"
   ]
  },
  {
   "cell_type": "markdown",
   "metadata": {},
   "source": [
    "## 5.結果"
   ]
  },
  {
   "cell_type": "code",
   "execution_count": 11,
   "metadata": {},
   "outputs": [
    {
     "data": {
      "text/plain": [
       "(0.9, 1.0)"
      ]
     },
     "execution_count": 11,
     "metadata": {},
     "output_type": "execute_result"
    },
    {
     "data": {
      "image/png": "[encoded data removed]",
      "text/plain": [
       "<Figure size 432x288 with 1 Axes>"
      ]
     },
     "metadata": {
      "needs_background": "light"
     },
     "output_type": "display_data"
    }
   ],
   "source": [
    "plt.plot(history.history['accuracy'], label = 'accuracy')\n",
    "plt.plot(history.history['val_accuracy'], label = 'val_accuracy')\n",
    "plt.xlabel('epochs')\n",
    "plt.ylabel('accuracy')\n",
    "plt.ylim(0.9, 1)"
   ]
  },
  {
   "cell_type": "code",
   "execution_count": 12,
   "metadata": {},
   "outputs": [
    {
     "data": {
      "text/plain": [
       "(0.0, 0.3)"
      ]
     },
     "execution_count": 12,
     "metadata": {},
     "output_type": "execute_result"
    },
    {
     "data": {
      "image/png": "[encoded data removed]",
      "text/plain": [
       "<Figure size 432x288 with 1 Axes>"
      ]
     },
     "metadata": {
      "needs_background": "light"
     },
     "output_type": "display_data"
    }
   ],
   "source": [
    "plt.plot(history.history['loss'], label='loss')\n",
    "plt.plot(history.history['val_loss'], label = 'val_loss')\n",
    "plt.xlabel('epochs')\n",
    "plt.ylabel('loss')\n",
    "plt.ylim(0, 0.3)"
   ]
  },
  {
   "cell_type": "code",
   "execution_count": null,
   "metadata": {},
   "outputs": [],
   "source": []
  },
  {
   "cell_type": "code",
   "execution_count": null,
   "metadata": {},
   "outputs": [],
   "source": []
  }
 ],
 "metadata": {
  "kernelspec": {
   "display_name": "Python 3",
   "language": "python",
   "name": "python3"
  },
  "language_info": {
   "codemirror_mode": {
    "name": "ipython",
    "version": 3
   },
   "file_extension": ".py",
   "mimetype": "text/x-python",
   "name": "python",
   "nbconvert_exporter": "python",
   "pygments_lexer": "ipython3",
   "version": "3.7.4"
  }
 },
 "nbformat": 4,
 "nbformat_minor": 2
}
