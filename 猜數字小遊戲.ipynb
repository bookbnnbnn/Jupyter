{
 "cells": [
  {
   "cell_type": "code",
   "execution_count": 1,
   "metadata": {},
   "outputs": [
    {
     "name": "stdout",
     "output_type": "stream",
     "text": [
      "請輸入你猜的數字1234\n",
      "1A0B\n",
      "請輸入你猜的數字5678\n",
      "0A1B\n",
      "請輸入你猜的數字1268\n",
      "1A1B\n",
      "請輸入你猜的數字2190\n",
      "0A3B\n",
      "請輸入你猜的數字1609\n",
      "3A0B\n",
      "請輸入你猜的數字1809\n",
      "答對了\n"
     ]
    }
   ],
   "source": [
    "import numpy as np\n",
    "L = list('0123456789')\n",
    "ans = np.random.choice(L, 4, replace = False)\n",
    "ans = \"\".join(ans)\n",
    "while True:\n",
    "    flag = False\n",
    "    guess = input('請輸入你猜的數字')\n",
    "    for i in guess:\n",
    "        if guess.count(i) != 1:\n",
    "            print('請不要輸入重複的數字')\n",
    "            flag = True\n",
    "            break\n",
    "    if flag:\n",
    "        continue\n",
    "    a = 0\n",
    "    b = 0\n",
    "    for i in range(len(ans)):\n",
    "        if ans[i] == guess[i]:\n",
    "            a += 1\n",
    "        elif ans[i] in guess:\n",
    "            b += 1\n",
    "    if a == 4:\n",
    "        print('答對了')\n",
    "        break\n",
    "    print(f'{a}A{b}B')"
   ]
  }
 ],
 "metadata": {
  "kernelspec": {
   "display_name": "Python 3",
   "language": "python",
   "name": "python3"
  },
  "language_info": {
   "codemirror_mode": {
    "name": "ipython",
    "version": 3
   },
   "file_extension": ".py",
   "mimetype": "text/x-python",
   "name": "python",
   "nbconvert_exporter": "python",
   "pygments_lexer": "ipython3",
   "version": "3.7.4"
  }
 },
 "nbformat": 4,
 "nbformat_minor": 2
}
