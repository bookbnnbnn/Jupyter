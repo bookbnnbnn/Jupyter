{
 "cells": [
  {
   "cell_type": "markdown",
   "metadata": {},
   "source": [
    "## 1 Linked List: Remove Duplicated From a Sorted List"
   ]
  },
  {
   "cell_type": "code",
   "execution_count": 232,
   "metadata": {},
   "outputs": [],
   "source": [
    "class ListNode:\n",
    "    def __init__(self, data:int): #初始化物件\n",
    "        self.data = data #定義物件的data為data\n",
    "        self.next = None #定義物件的next為None\n",
    "    def __iter__(self): #讓物件形成迭帶\n",
    "        current = self \n",
    "        while current is not None:\n",
    "            yield current # suspend and output current ListNode object\n",
    "            current = current.next"
   ]
  },
  {
   "cell_type": "code",
   "execution_count": 331,
   "metadata": {},
   "outputs": [],
   "source": [
    "def init_list(seq:list)->ListNode: #將list轉換成ListNode\n",
    "    head = None\n",
    "    for i in seq:\n",
    "        if head is None: #如果還沒有找到頭就將list的第一個設為頭\n",
    "            head = ListNode(i)\n",
    "            tail = head #將尾巴也設成list的第一個\n",
    "        else:\n",
    "            tail.next = ListNode(i) #接下來就將尾巴的下一個設為list的下一個\n",
    "            tail = tail.next #並將尾巴變到原本的下一個一直接下去\n",
    "    return head #回傳頭(因為全部都連好了這樣之後就可以找到所有元素了)"
   ]
  },
  {
   "cell_type": "code",
   "execution_count": 351,
   "metadata": {},
   "outputs": [],
   "source": [
    "def remove(list_node):\n",
    "    L = [] #用來判斷有沒有重複\n",
    "    head = list_node\n",
    "    while list_node.next != None:\n",
    "        if len(L) == 0: #起始\n",
    "            L.append(list_node.data)\n",
    "            L.append(list_node.next.data)\n",
    "            list_node = list_node.next\n",
    "        elif list_node.next.data not in L: \n",
    "            L.append(list_node.next.data) #如果沒有重複就將值貼在L\n",
    "            list_node = list_node.next #檢查下一個\n",
    "        elif list_node.next.data in L : #如果重複則將原本的下一個改成下下一個(這樣就等於把重複地拿掉)並且重新檢查\n",
    "            list_node.next = list_node.next.next\n",
    "    return head"
   ]
  },
  {
   "cell_type": "code",
   "execution_count": 352,
   "metadata": {},
   "outputs": [],
   "source": [
    "list_node = init_list([1,2,2,3,3,3,4,5])"
   ]
  },
  {
   "cell_type": "code",
   "execution_count": 353,
   "metadata": {},
   "outputs": [
    {
     "name": "stdout",
     "output_type": "stream",
     "text": [
      "1\n",
      "2\n",
      "3\n",
      "4\n",
      "5\n"
     ]
    }
   ],
   "source": [
    "x = remove(list_node)\n",
    "for i in x:\n",
    "    print(i.data)"
   ]
  },
  {
   "cell_type": "markdown",
   "metadata": {},
   "source": [
    "## 2. Tree: Invert Binary Tree. Given a binary tree, invert it."
   ]
  },
  {
   "cell_type": "code",
   "execution_count": 2,
   "metadata": {},
   "outputs": [],
   "source": [
    "def invert(array):\n",
    "    count = 0\n",
    "    length = len(array)\n",
    "    while length / 2 > 1: #找2的次方代表要切割幾次\n",
    "        count += 1\n",
    "        length /= 2\n",
    "    head = 0\n",
    "    tail = 1\n",
    "    for i in range(count+1):\n",
    "        head = head + 2**i\n",
    "        tail = tail + 2**(i+1)\n",
    "        array[head:tail] = array[head:tail][::-1] #將切割出來的部分做inverse再更改原本的array\n",
    "    return array"
   ]
  },
  {
   "cell_type": "code",
   "execution_count": 3,
   "metadata": {},
   "outputs": [
    {
     "data": {
      "text/plain": [
       "[4, 7, 2, 6, 3, 1]"
      ]
     },
     "execution_count": 3,
     "metadata": {},
     "output_type": "execute_result"
    }
   ],
   "source": [
    "invert([4, 2, 7, 1, 3, 6, 9])"
   ]
  },
  {
   "cell_type": "markdown",
   "metadata": {},
   "source": [
    "## 3. String Sequence(Sort): Checking Anagram"
   ]
  },
  {
   "cell_type": "code",
   "execution_count": 75,
   "metadata": {},
   "outputs": [],
   "source": [
    "def check(s, t):\n",
    "    s_list, t_list = list(s), list(t)\n",
    "    s_list.sort()\n",
    "    t_list.sort()\n",
    "    return s_list == t_list "
   ]
  },
  {
   "cell_type": "code",
   "execution_count": 76,
   "metadata": {},
   "outputs": [
    {
     "data": {
      "text/plain": [
       "True"
      ]
     },
     "execution_count": 76,
     "metadata": {},
     "output_type": "execute_result"
    }
   ],
   "source": [
    "check(\"earth\", \"heart\")"
   ]
  },
  {
   "cell_type": "markdown",
   "metadata": {},
   "source": [
    "## 4. Sort: Compute A Salary Threshold\n"
   ]
  },
  {
   "cell_type": "code",
   "execution_count": null,
   "metadata": {},
   "outputs": [],
   "source": [
    "def threshold(salaries, target):\n",
    "    salaries.sort()\n",
    "    lower_bound = 0\n",
    "    count = 1\n",
    "    for salary in salaries:\n",
    "        if (target - salary)/(len(salaries)-count) < lower_bound:\n",
    "            target - salary / count"
   ]
  },
  {
   "cell_type": "code",
   "execution_count": 358,
   "metadata": {},
   "outputs": [],
   "source": [
    "def threshold(salaries, target):\n",
    "    origin_salaries = salaries[:]\n",
    "    salaries.sort()\n",
    "    for i in range(len(salaries)):\n",
    "        target -= salaries[i]\n",
    "        new_average = target /(len(salaries)-(i+1)) #減去最小的取平均\n",
    "        if new_average > salaries[i+1]: #如果平均之後大於剩下值當中最小的則重複做\n",
    "            continue\n",
    "        else:  #如果平均之後小於剩下值當中最小的\n",
    "            larger_list = [salary for salary in salaries if salary > new_average] #找出所有大於剩下平均的值\n",
    "            corresponding_table = {} \n",
    "            for salary in larger_list:\n",
    "                corresponding_table.update({salary:new_average}) #將更改前與更改後的值對應好\n",
    "            for salary, new_average in corresponding_table.items():\n",
    "                origin_salaries[origin_salaries.index(salary)] = int(new_average)\n",
    "            break\n",
    "    return origin_salaries"
   ]
  },
  {
   "cell_type": "code",
   "execution_count": 359,
   "metadata": {},
   "outputs": [
    {
     "data": {
      "text/plain": [
       "[60, 30, 60, 40, 20]"
      ]
     },
     "execution_count": 359,
     "metadata": {},
     "output_type": "execute_result"
    }
   ],
   "source": [
    "threshold([90, 30, 100, 40, 20], 210)"
   ]
  },
  {
   "cell_type": "code",
   "execution_count": null,
   "metadata": {},
   "outputs": [],
   "source": []
  }
 ],
 "metadata": {
  "kernelspec": {
   "display_name": "Python 3",
   "language": "python",
   "name": "python3"
  },
  "language_info": {
   "codemirror_mode": {
    "name": "ipython",
    "version": 3
   },
   "file_extension": ".py",
   "mimetype": "text/x-python",
   "name": "python",
   "nbconvert_exporter": "python",
   "pygments_lexer": "ipython3",
   "version": "3.8.5"
  }
 },
 "nbformat": 4,
 "nbformat_minor": 4
}
