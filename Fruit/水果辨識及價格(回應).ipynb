{
 "cells": [
  {
   "cell_type": "markdown",
   "metadata": {},
   "source": [
    "###  Q：APP 及時價格可以參考北農網站當日拍賣價，試試看能不能每天即時更新\n",
    "A ：目前我們利用 python 及排程每天自動爬取 twfood 網站上的水果價格，但因為編寫 Android 的 APP 所用到的程式是 Java，這部份我們沒有太多涉獵，所以以我們現在的能力是無法實現，但理論上是可行的。\n",
    "### Q：模型中使用 $ 1 \\times 1 $ Pointwise convolution的原因為何？\n",
    "A：為了使得最後輸出的大小與標準卷積一樣，可以從下面一題的例子來看\n",
    "### Q：能否用具體的例子說明卷積層的計算\n",
    "A ：![](S__60448929.jpg)\n",
    "### Q：使用自己拍的照片去預測的結果\n",
    "A ：![](457224.jpg)\n",
    "![](457225.jpg)"
   ]
  },
  {
   "cell_type": "code",
   "execution_count": null,
   "metadata": {},
   "outputs": [],
   "source": []
  }
 ],
 "metadata": {
  "kernelspec": {
   "display_name": "Python 3",
   "language": "python",
   "name": "python3"
  },
  "language_info": {
   "codemirror_mode": {
    "name": "ipython",
    "version": 3
   },
   "file_extension": ".py",
   "mimetype": "text/x-python",
   "name": "python",
   "nbconvert_exporter": "python",
   "pygments_lexer": "ipython3",
   "version": "3.7.4"
  }
 },
 "nbformat": 4,
 "nbformat_minor": 2
}
