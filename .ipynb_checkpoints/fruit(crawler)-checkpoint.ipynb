{
 "cells": [
  {
   "cell_type": "code",
   "execution_count": 60,
   "metadata": {},
   "outputs": [],
   "source": [
    "import requests\n",
    "import numpy as np\n",
    "import pandas as pd\n",
    "from bs4 import BeautifulSoup\n",
    "import pygsheets "
   ]
  },
  {
   "cell_type": "code",
   "execution_count": 83,
   "metadata": {},
   "outputs": [],
   "source": [
    "L = ['熱帶水果', '硬核類', '高山類', '厚皮類', '薄皮類', '瓜類', '柑橘柚類']\n",
    "gc = pygsheets.authorize(service_account_file=r\"C:\\Users\\j3192\\Desktop\\Jupyter Notebook\\台大程式課程\\ntu_pyxl_lesson10\\pyxl-271804-be731475b523.json\")\n",
    "wb = gc.open_by_url(\"https://docs.google.com/spreadsheets/d/1n41gC89M7yiwk8xHh_-sju3Mb_D_akjrkc5xqY1RdOQ/edit#gid=0\")\n",
    "for category in L:\n",
    "    res = requests.get(f'https://www.twfood.cc/topic/fruit/{category}')\n",
    "    soup = BeautifulSoup(res.text, 'html.parser')\n",
    "    fruit = soup.select('#vege_chart > div.col-xs-12.col-sm-12.col-md-3.widget.to_animate.animated.fadeInLeft > div > div.col-xs-6.col-sm-6.col-md-12.vege_price')\n",
    "    names = soup.select('#vege_chart > div.col-xs-12.col-sm-12.col-md-3.widget.to_animate.animated.fadeInLeft > div > div.col-xs-6.col-sm-6.col-md-12.vege_price > h4 > a')\n",
    "    num = len(fruit)\n",
    "    df = pd.DataFrame({})\n",
    "    for i in range(num):\n",
    "        name = names[i].text.replace(\" \", \"\").replace(f'推薦No:{i+1}', '').strip()\n",
    "        estimated_price = fruit[i].find_all('span', {'class':'text-price'})[3].text\n",
    "        ser = pd.Series({\"estimated_price\":estimated_price}, name = name)\n",
    "        df = df.append(ser)\n",
    "    wks = wb.worksheet_by_title(f\"{category}\")\n",
    "    wks.set_dataframe(df, 'A1', copy_index=True)\n",
    "    wks.refresh()"
   ]
  },
  {
   "cell_type": "code",
   "execution_count": 80,
   "metadata": {},
   "outputs": [
    {
     "data": {
      "text/html": [
       "<div>\n",
       "<style scoped>\n",
       "    .dataframe tbody tr th:only-of-type {\n",
       "        vertical-align: middle;\n",
       "    }\n",
       "\n",
       "    .dataframe tbody tr th {\n",
       "        vertical-align: top;\n",
       "    }\n",
       "\n",
       "    .dataframe thead th {\n",
       "        text-align: right;\n",
       "    }\n",
       "</style>\n",
       "<table border=\"1\" class=\"dataframe\">\n",
       "  <thead>\n",
       "    <tr style=\"text-align: right;\">\n",
       "      <th></th>\n",
       "    </tr>\n",
       "  </thead>\n",
       "  <tbody>\n",
       "  </tbody>\n",
       "</table>\n",
       "</div>"
      ],
      "text/plain": [
       "Empty DataFrame\n",
       "Columns: []\n",
       "Index: []"
      ]
     },
     "execution_count": 80,
     "metadata": {},
     "output_type": "execute_result"
    }
   ],
   "source": [
    "df"
   ]
  },
  {
   "cell_type": "code",
   "execution_count": null,
   "metadata": {},
   "outputs": [],
   "source": []
  }
 ],
 "metadata": {
  "kernelspec": {
   "display_name": "Python 3",
   "language": "python",
   "name": "python3"
  },
  "language_info": {
   "codemirror_mode": {
    "name": "ipython",
    "version": 3
   },
   "file_extension": ".py",
   "mimetype": "text/x-python",
   "name": "python",
   "nbconvert_exporter": "python",
   "pygments_lexer": "ipython3",
   "version": "3.7.4"
  }
 },
 "nbformat": 4,
 "nbformat_minor": 2
}
