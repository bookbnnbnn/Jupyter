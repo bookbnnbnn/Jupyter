{
 "cells": [
  {
   "cell_type": "code",
   "execution_count": 1,
   "metadata": {},
   "outputs": [],
   "source": [
    "%matplotlib inline\n",
    "import numpy as np\n",
    "import pandas as pd\n",
    "import matplotlib.pyplot as plt"
   ]
  },
  {
   "cell_type": "markdown",
   "metadata": {},
   "source": [
    "### 1.讀入FASHION_MNIST數據集"
   ]
  },
  {
   "cell_type": "code",
   "execution_count": 2,
   "metadata": {},
   "outputs": [],
   "source": [
    "from tensorflow.keras.datasets import fashion_mnist"
   ]
  },
  {
   "cell_type": "code",
   "execution_count": 3,
   "metadata": {},
   "outputs": [],
   "source": [
    "(x_train, y_train), (x_test, y_test) = fashion_mnist.load_data()"
   ]
  },
  {
   "cell_type": "markdown",
   "metadata": {},
   "source": [
    "### 2.觀察數據集的內容"
   ]
  },
  {
   "cell_type": "code",
   "execution_count": 4,
   "metadata": {},
   "outputs": [
    {
     "data": {
      "text/plain": [
       "60000"
      ]
     },
     "execution_count": 4,
     "metadata": {},
     "output_type": "execute_result"
    }
   ],
   "source": [
    "len(x_train)"
   ]
  },
  {
   "cell_type": "code",
   "execution_count": 5,
   "metadata": {},
   "outputs": [
    {
     "data": {
      "text/plain": [
       "10000"
      ]
     },
     "execution_count": 5,
     "metadata": {},
     "output_type": "execute_result"
    }
   ],
   "source": [
    "len(x_test)"
   ]
  },
  {
   "cell_type": "code",
   "execution_count": 6,
   "metadata": {},
   "outputs": [
    {
     "data": {
      "text/plain": [
       "10"
      ]
     },
     "execution_count": 6,
     "metadata": {},
     "output_type": "execute_result"
    }
   ],
   "source": [
    "#查看種類有幾種\n",
    "len(np.unique(y_train))"
   ]
  },
  {
   "cell_type": "code",
   "execution_count": 7,
   "metadata": {},
   "outputs": [
    {
     "data": {
      "image/png": "[encoded data removed]",
      "text/plain": [
       "<Figure size 432x288 with 10 Axes>"
      ]
     },
     "metadata": {
      "needs_background": "light"
     },
     "output_type": "display_data"
    }
   ],
   "source": [
    "#獎每個種類印出來\n",
    "for i in range(10):\n",
    "    num = np.where(y_train == i)[0][0]\n",
    "    plt.subplot(2, 5, i+1)\n",
    "    plt.imshow(x_train[num], cmap = \"Greys\")"
   ]
  },
  {
   "cell_type": "code",
   "execution_count": 8,
   "metadata": {},
   "outputs": [],
   "source": [
    "#由上圖知道y_train所代表的意義\n",
    "# class_names = ['短袖圓領T恤', '褲子', '套衫', '連衣裙', '外套', '涼鞋', '襯衫', '運動鞋','包', '短靴']\n",
    "class_names = ['T-shirt/top', 'Trouser', 'Pullover', 'Dress', 'Coat', 'Sandal', 'Shirt', 'Sneaker', 'Bag', 'Ankle boot']"
   ]
  },
  {
   "cell_type": "code",
   "execution_count": 9,
   "metadata": {},
   "outputs": [
    {
     "name": "stdout",
     "output_type": "stream",
     "text": [
      "ans: Ankle boot\n"
     ]
    },
    {
     "data": {
      "image/png": "[encoded data removed]",
      "text/plain": [
       "<Figure size 432x288 with 1 Axes>"
      ]
     },
     "metadata": {
      "needs_background": "light"
     },
     "output_type": "display_data"
    }
   ],
   "source": [
    "plt.imshow(x_train[0], cmap = \"Greys\")\n",
    "print(\"ans:\", class_names[y_train[0]])"
   ]
  },
  {
   "cell_type": "markdown",
   "metadata": {},
   "source": [
    "### 3.資料整理"
   ]
  },
  {
   "cell_type": "code",
   "execution_count": 10,
   "metadata": {},
   "outputs": [],
   "source": [
    "#使資料介於0-1之間\n",
    "x_train = x_train/255\n",
    "x_test = x_test/255"
   ]
  },
  {
   "cell_type": "code",
   "execution_count": 11,
   "metadata": {},
   "outputs": [
    {
     "data": {
      "text/plain": [
       "(60000, 28, 28)"
      ]
     },
     "execution_count": 11,
     "metadata": {},
     "output_type": "execute_result"
    }
   ],
   "source": [
    "x_train.shape"
   ]
  },
  {
   "cell_type": "code",
   "execution_count": 12,
   "metadata": {},
   "outputs": [],
   "source": [
    "#將資料拉平\n",
    "x_train = x_train.reshape(60000, 28*28)\n",
    "x_test = x_test.reshape(10000, 28*28)"
   ]
  },
  {
   "cell_type": "code",
   "execution_count": 13,
   "metadata": {},
   "outputs": [],
   "source": [
    "#將y_train變成one-hot encoding\n",
    "from tensorflow.keras.utils import to_categorical\n",
    "y_train = to_categorical(y_train, num_classes = 10)\n",
    "y_test = to_categorical(y_test, num_classes = 10)"
   ]
  },
  {
   "cell_type": "code",
   "execution_count": 14,
   "metadata": {},
   "outputs": [
    {
     "data": {
      "text/plain": [
       "array([0., 0., 0., 0., 0., 0., 0., 0., 0., 1.], dtype=float32)"
      ]
     },
     "execution_count": 14,
     "metadata": {},
     "output_type": "execute_result"
    }
   ],
   "source": [
    "y_train[0]"
   ]
  },
  {
   "cell_type": "markdown",
   "metadata": {},
   "source": [
    "### 4. 打造神經網路"
   ]
  },
  {
   "cell_type": "code",
   "execution_count": 15,
   "metadata": {},
   "outputs": [],
   "source": [
    "from tensorflow.keras.models import Sequential\n",
    "from tensorflow.keras.layers import Dense\n",
    "from tensorflow.keras.optimizers import Nadam"
   ]
  },
  {
   "cell_type": "code",
   "execution_count": 16,
   "metadata": {},
   "outputs": [],
   "source": [
    "model = Sequential()"
   ]
  },
  {
   "cell_type": "code",
   "execution_count": 17,
   "metadata": {},
   "outputs": [],
   "source": [
    "#第一層\n",
    "model.add(Dense(128, input_dim = 28*28 ,activation = 'relu')) #relu:忽略小於0的值，大於0的值為線性\n",
    "#第二層\n",
    "model.add(Dense(128, activation = 'relu'))\n",
    "#第三層\n",
    "model.add(Dense(10, activation = 'softmax')) #softmax:將數字做轉換到0-1之間"
   ]
  },
  {
   "cell_type": "code",
   "execution_count": 18,
   "metadata": {},
   "outputs": [],
   "source": [
    "#將神經網路組合起來\n",
    "model.compile(loss = 'categorical_crossentropy', optimizer = Nadam(), metrics = ['accuracy'])"
   ]
  },
  {
   "cell_type": "code",
   "execution_count": 19,
   "metadata": {},
   "outputs": [
    {
     "name": "stdout",
     "output_type": "stream",
     "text": [
      "Model: \"sequential\"\n",
      "_________________________________________________________________\n",
      "Layer (type)                 Output Shape              Param #   \n",
      "=================================================================\n",
      "dense (Dense)                (None, 128)               100480    \n",
      "_________________________________________________________________\n",
      "dense_1 (Dense)              (None, 128)               16512     \n",
      "_________________________________________________________________\n",
      "dense_2 (Dense)              (None, 10)                1290      \n",
      "=================================================================\n",
      "Total params: 118,282\n",
      "Trainable params: 118,282\n",
      "Non-trainable params: 0\n",
      "_________________________________________________________________\n"
     ]
    }
   ],
   "source": [
    "model.summary()"
   ]
  },
  {
   "cell_type": "markdown",
   "metadata": {},
   "source": [
    "### 5. 訓練"
   ]
  },
  {
   "cell_type": "code",
   "execution_count": 20,
   "metadata": {},
   "outputs": [
    {
     "name": "stdout",
     "output_type": "stream",
     "text": [
      "Train on 60000 samples\n",
      "Epoch 1/50\n",
      "60000/60000 [==============================] - 3s 56us/sample - loss: 0.5249 - accuracy: 0.8160\n",
      "Epoch 2/50\n",
      "60000/60000 [==============================] - 2s 41us/sample - loss: 0.3672 - accuracy: 0.8657\n",
      "Epoch 3/50\n",
      "60000/60000 [==============================] - 2s 41us/sample - loss: 0.3281 - accuracy: 0.8792\n",
      "Epoch 4/50\n",
      "60000/60000 [==============================] - 2s 40us/sample - loss: 0.3019 - accuracy: 0.8888\n",
      "Epoch 5/50\n",
      "60000/60000 [==============================] - 3s 46us/sample - loss: 0.2827 - accuracy: 0.8956\n",
      "Epoch 6/50\n",
      "60000/60000 [==============================] - 2s 40us/sample - loss: 0.2667 - accuracy: 0.9000\n",
      "Epoch 7/50\n",
      "60000/60000 [==============================] - 2s 42us/sample - loss: 0.2537 - accuracy: 0.9054\n",
      "Epoch 8/50\n",
      "60000/60000 [==============================] - 2s 41us/sample - loss: 0.2435 - accuracy: 0.9087\n",
      "Epoch 9/50\n",
      "60000/60000 [==============================] - 3s 50us/sample - loss: 0.2316 - accuracy: 0.9133\n",
      "Epoch 10/50\n",
      "60000/60000 [==============================] - 3s 43us/sample - loss: 0.2217 - accuracy: 0.9171\n",
      "Epoch 11/50\n",
      "60000/60000 [==============================] - 2s 42us/sample - loss: 0.2122 - accuracy: 0.9209\n",
      "Epoch 12/50\n",
      "60000/60000 [==============================] - 3s 46us/sample - loss: 0.2038 - accuracy: 0.9240\n",
      "Epoch 13/50\n",
      "60000/60000 [==============================] - 2s 42us/sample - loss: 0.1964 - accuracy: 0.9253\n",
      "Epoch 14/50\n",
      "60000/60000 [==============================] - 3s 48us/sample - loss: 0.1901 - accuracy: 0.9280\n",
      "Epoch 15/50\n",
      "60000/60000 [==============================] - 3s 48us/sample - loss: 0.1827 - accuracy: 0.9314\n",
      "Epoch 16/50\n",
      "60000/60000 [==============================] - 3s 49us/sample - loss: 0.1766 - accuracy: 0.9335\n",
      "Epoch 17/50\n",
      "60000/60000 [==============================] - 3s 43us/sample - loss: 0.1698 - accuracy: 0.9350\n",
      "Epoch 18/50\n",
      "60000/60000 [==============================] - 3s 43us/sample - loss: 0.1633 - accuracy: 0.9374\n",
      "Epoch 19/50\n",
      "60000/60000 [==============================] - 3s 44us/sample - loss: 0.1574 - accuracy: 0.9409\n",
      "Epoch 20/50\n",
      "60000/60000 [==============================] - 3s 45us/sample - loss: 0.1538 - accuracy: 0.9408\n",
      "Epoch 21/50\n",
      "60000/60000 [==============================] - 3s 42us/sample - loss: 0.1494 - accuracy: 0.9434\n",
      "Epoch 22/50\n",
      "60000/60000 [==============================] - 3s 43us/sample - loss: 0.1426 - accuracy: 0.9459\n",
      "Epoch 23/50\n",
      "60000/60000 [==============================] - 3s 42us/sample - loss: 0.1405 - accuracy: 0.9463s\n",
      "Epoch 24/50\n",
      "60000/60000 [==============================] - 3s 43us/sample - loss: 0.1335 - accuracy: 0.9502\n",
      "Epoch 25/50\n",
      "60000/60000 [==============================] - 3s 45us/sample - loss: 0.1316 - accuracy: 0.9499\n",
      "Epoch 26/50\n",
      "60000/60000 [==============================] - 3s 44us/sample - loss: 0.1250 - accuracy: 0.9523\n",
      "Epoch 27/50\n",
      "60000/60000 [==============================] - 3s 45us/sample - loss: 0.1215 - accuracy: 0.9540\n",
      "Epoch 28/50\n",
      "60000/60000 [==============================] - 3s 50us/sample - loss: 0.1188 - accuracy: 0.9551\n",
      "Epoch 29/50\n",
      "60000/60000 [==============================] - 3s 42us/sample - loss: 0.1169 - accuracy: 0.9556\n",
      "Epoch 30/50\n",
      "60000/60000 [==============================] - 3s 45us/sample - loss: 0.1129 - accuracy: 0.9578\n",
      "Epoch 31/50\n",
      "60000/60000 [==============================] - 3s 45us/sample - loss: 0.1065 - accuracy: 0.9604\n",
      "Epoch 32/50\n",
      "60000/60000 [==============================] - 3s 48us/sample - loss: 0.1062 - accuracy: 0.9604\n",
      "Epoch 33/50\n",
      "60000/60000 [==============================] - 2s 41us/sample - loss: 0.1036 - accuracy: 0.9610\n",
      "Epoch 34/50\n",
      "60000/60000 [==============================] - 3s 46us/sample - loss: 0.1012 - accuracy: 0.9629\n",
      "Epoch 35/50\n",
      "60000/60000 [==============================] - 3s 42us/sample - loss: 0.0926 - accuracy: 0.9650\n",
      "Epoch 36/50\n",
      "60000/60000 [==============================] - 2s 39us/sample - loss: 0.0954 - accuracy: 0.9638\n",
      "Epoch 37/50\n",
      "60000/60000 [==============================] - 2s 40us/sample - loss: 0.0932 - accuracy: 0.9649\n",
      "Epoch 38/50\n",
      "60000/60000 [==============================] - 2s 41us/sample - loss: 0.0890 - accuracy: 0.9669\n",
      "Epoch 39/50\n",
      "60000/60000 [==============================] - 2s 41us/sample - loss: 0.0878 - accuracy: 0.9675\n",
      "Epoch 40/50\n",
      "60000/60000 [==============================] - 3s 42us/sample - loss: 0.0848 - accuracy: 0.9686\n",
      "Epoch 41/50\n",
      "60000/60000 [==============================] - 2s 39us/sample - loss: 0.0816 - accuracy: 0.9700\n",
      "Epoch 42/50\n",
      "60000/60000 [==============================] - 2s 39us/sample - loss: 0.0810 - accuracy: 0.9694\n",
      "Epoch 43/50\n",
      "60000/60000 [==============================] - 2s 39us/sample - loss: 0.0781 - accuracy: 0.9704\n",
      "Epoch 44/50\n",
      "60000/60000 [==============================] - 2s 39us/sample - loss: 0.0782 - accuracy: 0.9707\n",
      "Epoch 45/50\n",
      "60000/60000 [==============================] - 2s 38us/sample - loss: 0.0748 - accuracy: 0.9720\n",
      "Epoch 46/50\n",
      "60000/60000 [==============================] - 2s 39us/sample - loss: 0.0716 - accuracy: 0.9729\n",
      "Epoch 47/50\n",
      "60000/60000 [==============================] - 2s 38us/sample - loss: 0.0695 - accuracy: 0.9742\n",
      "Epoch 48/50\n",
      "60000/60000 [==============================] - 2s 39us/sample - loss: 0.0722 - accuracy: 0.9732\n",
      "Epoch 49/50\n",
      "60000/60000 [==============================] - 2s 39us/sample - loss: 0.0678 - accuracy: 0.9745\n",
      "Epoch 50/50\n",
      "60000/60000 [==============================] - 3s 44us/sample - loss: 0.0685 - accuracy: 0.9739\n"
     ]
    },
    {
     "data": {
      "text/plain": [
       "<tensorflow.python.keras.callbacks.History at 0x1debafb5208>"
      ]
     },
     "execution_count": 20,
     "metadata": {},
     "output_type": "execute_result"
    }
   ],
   "source": [
    "#訓練時，每64次調整一次參數，循環訓練50次\n",
    "model.fit(x_train, y_train, batch_size = 100, epochs = 50)"
   ]
  },
  {
   "cell_type": "markdown",
   "metadata": {},
   "source": [
    "### 6.訓練結果"
   ]
  },
  {
   "cell_type": "code",
   "execution_count": 21,
   "metadata": {},
   "outputs": [],
   "source": [
    "#不希望出現每個值出現的機率而是直接告訴我們最有可能的答案\n",
    "result = model.predict_classes(x_test)"
   ]
  },
  {
   "cell_type": "code",
   "execution_count": 22,
   "metadata": {},
   "outputs": [
    {
     "name": "stdout",
     "output_type": "stream",
     "text": [
      "10000/10000 [==============================] - 0s 38us/sample - loss: 0.5826 - accuracy: 0.8916\n"
     ]
    },
    {
     "data": {
      "text/plain": [
       "[0.5826172789931298, 0.8916]"
      ]
     },
     "execution_count": 22,
     "metadata": {},
     "output_type": "execute_result"
    }
   ],
   "source": [
    "model.evaluate(x_test, y_test, batch_size = 100)"
   ]
  },
  {
   "cell_type": "code",
   "execution_count": 23,
   "metadata": {},
   "outputs": [],
   "source": [
    "from ipywidgets import interact"
   ]
  },
  {
   "cell_type": "code",
   "execution_count": 24,
   "metadata": {},
   "outputs": [],
   "source": [
    "def show(n):\n",
    "    plt.imshow(x_test[n].reshape(28, 28), cmap = \"Greys\")\n",
    "    plt.title(class_names[ np.where(y_test[n] == 1)[0][0] ])\n",
    "    print(\"prediction:\", class_names[ result[n] ])"
   ]
  },
  {
   "cell_type": "code",
   "execution_count": 25,
   "metadata": {},
   "outputs": [
    {
     "data": {
      "application/vnd.jupyter.widget-view+json": {
       "model_id": "ab4e06d12e404b4abf87711799248a6b",
       "version_major": 2,
       "version_minor": 0
      },
      "text/plain": [
       "interactive(children=(IntSlider(value=5000, description='n', max=10000), Output()), _dom_classes=('widget-inte…"
      ]
     },
     "metadata": {},
     "output_type": "display_data"
    },
    {
     "data": {
      "text/plain": [
       "<function __main__.show(n)>"
      ]
     },
     "execution_count": 25,
     "metadata": {},
     "output_type": "execute_result"
    }
   ],
   "source": [
    "interact(show, n = (0, 10000))"
   ]
  }
 ],
 "metadata": {
  "kernelspec": {
   "display_name": "Python 3",
   "language": "python",
   "name": "python3"
  },
  "language_info": {
   "codemirror_mode": {
    "name": "ipython",
    "version": 3
   },
   "file_extension": ".py",
   "mimetype": "text/x-python",
   "name": "python",
   "nbconvert_exporter": "python",
   "pygments_lexer": "ipython3",
   "version": "3.7.4"
  }
 },
 "nbformat": 4,
 "nbformat_minor": 2
}
