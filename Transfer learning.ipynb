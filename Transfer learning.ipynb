{
 "cells": [
  {
   "cell_type": "code",
   "execution_count": 1,
   "metadata": {},
   "outputs": [],
   "source": [
    "from tensorflow.keras.datasets import mnist\n",
    "from tensorflow.keras.utils import to_categorical\n",
    "import tensorflow as tf\n",
    "import matplotlib.pyplot as plt"
   ]
  },
  {
   "cell_type": "code",
   "execution_count": 2,
   "metadata": {},
   "outputs": [],
   "source": [
    "(x_train, y_train), (x_test, y_test) = mnist.load_data()\n",
    "x_train = x_train / x_train.max()\n",
    "x_test = x_test / x_test.max()"
   ]
  },
  {
   "cell_type": "code",
   "execution_count": 3,
   "metadata": {},
   "outputs": [
    {
     "data": {
      "text/plain": [
       "(28, 28)"
      ]
     },
     "execution_count": 3,
     "metadata": {},
     "output_type": "execute_result"
    }
   ],
   "source": [
    "x_train[0].shape"
   ]
  },
  {
   "cell_type": "code",
   "execution_count": 4,
   "metadata": {},
   "outputs": [],
   "source": [
    "x_train = x_train.reshape(-1, 28, 28, 1)\n",
    "x_test = x_test.reshape(-1, 28, 28, 1)"
   ]
  },
  {
   "cell_type": "code",
   "execution_count": 5,
   "metadata": {},
   "outputs": [],
   "source": [
    "y_train = to_categorical(y_train, 10)\n",
    "y_test = to_categorical(y_test, 10)"
   ]
  },
  {
   "cell_type": "code",
   "execution_count": 13,
   "metadata": {},
   "outputs": [],
   "source": [
    "fashion_model = tf.keras.models.load_model('fashion_model.h5')"
   ]
  },
  {
   "cell_type": "code",
   "execution_count": 14,
   "metadata": {},
   "outputs": [
    {
     "name": "stdout",
     "output_type": "stream",
     "text": [
      "Model: \"sequential\"\n",
      "_________________________________________________________________\n",
      "Layer (type)                 Output Shape              Param #   \n",
      "=================================================================\n",
      "conv2d (Conv2D)              (None, 28, 28, 16)        160       \n",
      "_________________________________________________________________\n",
      "batch_normalization (BatchNo (None, 28, 28, 16)        64        \n",
      "_________________________________________________________________\n",
      "max_pooling2d (MaxPooling2D) (None, 14, 14, 16)        0         \n",
      "_________________________________________________________________\n",
      "conv2d_1 (Conv2D)            (None, 14, 14, 32)        4640      \n",
      "_________________________________________________________________\n",
      "batch_normalization_1 (Batch (None, 14, 14, 32)        128       \n",
      "_________________________________________________________________\n",
      "max_pooling2d_1 (MaxPooling2 (None, 7, 7, 32)          0         \n",
      "_________________________________________________________________\n",
      "conv2d_2 (Conv2D)            (None, 7, 7, 64)          18496     \n",
      "_________________________________________________________________\n",
      "batch_normalization_2 (Batch (None, 7, 7, 64)          256       \n",
      "_________________________________________________________________\n",
      "max_pooling2d_2 (MaxPooling2 (None, 3, 3, 64)          0         \n",
      "_________________________________________________________________\n",
      "flatten (Flatten)            (None, 576)               0         \n",
      "_________________________________________________________________\n",
      "dense (Dense)                (None, 128)               73856     \n",
      "_________________________________________________________________\n",
      "dropout (Dropout)            (None, 128)               0         \n",
      "_________________________________________________________________\n",
      "dense_1 (Dense)              (None, 10)                1290      \n",
      "=================================================================\n",
      "Total params: 98,890\n",
      "Trainable params: 98,666\n",
      "Non-trainable params: 224\n",
      "_________________________________________________________________\n"
     ]
    }
   ],
   "source": [
    "fashion_model.summary()"
   ]
  },
  {
   "cell_type": "code",
   "execution_count": 15,
   "metadata": {},
   "outputs": [],
   "source": [
    "for layer in fashion_model.layers[3:]:\n",
    "    layer.trainible = False"
   ]
  },
  {
   "cell_type": "code",
   "execution_count": 16,
   "metadata": {},
   "outputs": [],
   "source": [
    "fashion_model.compile(optimizer='Adam', loss = 'categorical_crossentropy', metrics=['accuracy'])"
   ]
  },
  {
   "cell_type": "code",
   "execution_count": 18,
   "metadata": {
    "scrolled": true
   },
   "outputs": [
    {
     "name": "stdout",
     "output_type": "stream",
     "text": [
      "Train on 60000 samples, validate on 10000 samples\n",
      "Epoch 1/50\n",
      "60000/60000 [==============================] - 11s 177us/sample - loss: 0.1608 - accuracy: 0.9527 - val_loss: 0.0635 - val_accuracy: 0.9809\n",
      "Epoch 2/50\n",
      "60000/60000 [==============================] - 11s 178us/sample - loss: 0.0737 - accuracy: 0.9774 - val_loss: 0.0479 - val_accuracy: 0.9854\n",
      "Epoch 3/50\n",
      "60000/60000 [==============================] - 11s 178us/sample - loss: 0.0495 - accuracy: 0.9848 - val_loss: 0.0482 - val_accuracy: 0.9840\n",
      "Epoch 4/50\n",
      "60000/60000 [==============================] - 11s 177us/sample - loss: 0.0377 - accuracy: 0.9875 - val_loss: 0.0362 - val_accuracy: 0.9878\n",
      "Epoch 5/50\n",
      "60000/60000 [==============================] - 11s 178us/sample - loss: 0.0307 - accuracy: 0.9903 - val_loss: 0.0389 - val_accuracy: 0.9887\n",
      "Epoch 6/50\n",
      "60000/60000 [==============================] - 11s 180us/sample - loss: 0.0256 - accuracy: 0.9914 - val_loss: 0.0444 - val_accuracy: 0.9879\n",
      "Epoch 7/50\n",
      "60000/60000 [==============================] - 11s 180us/sample - loss: 0.0230 - accuracy: 0.9921 - val_loss: 0.0466 - val_accuracy: 0.9858\n",
      "Epoch 8/50\n",
      "60000/60000 [==============================] - 11s 179us/sample - loss: 0.0172 - accuracy: 0.9942 - val_loss: 0.0376 - val_accuracy: 0.9889\n",
      "Epoch 9/50\n",
      "60000/60000 [==============================] - 11s 180us/sample - loss: 0.0181 - accuracy: 0.9937 - val_loss: 0.0344 - val_accuracy: 0.9893\n",
      "Epoch 10/50\n",
      "60000/60000 [==============================] - 11s 181us/sample - loss: 0.0150 - accuracy: 0.9951 - val_loss: 0.0434 - val_accuracy: 0.9873\n",
      "Epoch 11/50\n",
      "60000/60000 [==============================] - 11s 182us/sample - loss: 0.0137 - accuracy: 0.9954 - val_loss: 0.0367 - val_accuracy: 0.9896\n",
      "Epoch 12/50\n",
      "60000/60000 [==============================] - 11s 179us/sample - loss: 0.0135 - accuracy: 0.9956 - val_loss: 0.0390 - val_accuracy: 0.9892\n",
      "Epoch 13/50\n",
      "60000/60000 [==============================] - 11s 176us/sample - loss: 0.0121 - accuracy: 0.9960 - val_loss: 0.0375 - val_accuracy: 0.9909\n",
      "Epoch 14/50\n",
      "60000/60000 [==============================] - 11s 176us/sample - loss: 0.0121 - accuracy: 0.9962 - val_loss: 0.0356 - val_accuracy: 0.9900\n",
      "Epoch 15/50\n",
      "60000/60000 [==============================] - 11s 178us/sample - loss: 0.0124 - accuracy: 0.9957 - val_loss: 0.0340 - val_accuracy: 0.9905\n",
      "Epoch 16/50\n",
      "60000/60000 [==============================] - 11s 177us/sample - loss: 0.0095 - accuracy: 0.9968 - val_loss: 0.0393 - val_accuracy: 0.9896\n",
      "Epoch 17/50\n",
      "60000/60000 [==============================] - 11s 177us/sample - loss: 0.0105 - accuracy: 0.9964 - val_loss: 0.0429 - val_accuracy: 0.9901\n",
      "Epoch 18/50\n",
      "60000/60000 [==============================] - 11s 176us/sample - loss: 0.0079 - accuracy: 0.9973 - val_loss: 0.0367 - val_accuracy: 0.9910\n",
      "Epoch 19/50\n",
      "60000/60000 [==============================] - 11s 181us/sample - loss: 0.0063 - accuracy: 0.9978 - val_loss: 0.0453 - val_accuracy: 0.9902\n",
      "Epoch 20/50\n",
      "60000/60000 [==============================] - 11s 176us/sample - loss: 0.0098 - accuracy: 0.9969 - val_loss: 0.0386 - val_accuracy: 0.9916\n",
      "Epoch 21/50\n",
      "60000/60000 [==============================] - 11s 187us/sample - loss: 0.0082 - accuracy: 0.9974 - val_loss: 0.0424 - val_accuracy: 0.9904\n",
      "Epoch 22/50\n",
      "60000/60000 [==============================] - 11s 180us/sample - loss: 0.0104 - accuracy: 0.9967 - val_loss: 0.0422 - val_accuracy: 0.9904\n",
      "Epoch 23/50\n",
      "60000/60000 [==============================] - 11s 177us/sample - loss: 0.0079 - accuracy: 0.9975 - val_loss: 0.0361 - val_accuracy: 0.9921\n",
      "Epoch 24/50\n",
      "60000/60000 [==============================] - 11s 186us/sample - loss: 0.0060 - accuracy: 0.9980 - val_loss: 0.0392 - val_accuracy: 0.9922\n",
      "Epoch 25/50\n",
      "60000/60000 [==============================] - 11s 177us/sample - loss: 0.0069 - accuracy: 0.9979 - val_loss: 0.0434 - val_accuracy: 0.9917\n",
      "Epoch 26/50\n",
      "60000/60000 [==============================] - 11s 177us/sample - loss: 0.0073 - accuracy: 0.9976 - val_loss: 0.0419 - val_accuracy: 0.9920\n",
      "Epoch 27/50\n",
      "60000/60000 [==============================] - 11s 177us/sample - loss: 0.0079 - accuracy: 0.9975 - val_loss: 0.0417 - val_accuracy: 0.9922\n",
      "Epoch 28/50\n",
      "60000/60000 [==============================] - 11s 177us/sample - loss: 0.0065 - accuracy: 0.9976 - val_loss: 0.0402 - val_accuracy: 0.9922\n",
      "Epoch 29/50\n",
      "60000/60000 [==============================] - 11s 179us/sample - loss: 0.0058 - accuracy: 0.9980 - val_loss: 0.0395 - val_accuracy: 0.9928\n",
      "Epoch 30/50\n",
      "60000/60000 [==============================] - 11s 176us/sample - loss: 0.0064 - accuracy: 0.9979 - val_loss: 0.0634 - val_accuracy: 0.9889\n",
      "Epoch 31/50\n",
      "60000/60000 [==============================] - 11s 177us/sample - loss: 0.0064 - accuracy: 0.9977 - val_loss: 0.0355 - val_accuracy: 0.9924\n",
      "Epoch 32/50\n",
      "60000/60000 [==============================] - 11s 179us/sample - loss: 0.0056 - accuracy: 0.9983 - val_loss: 0.0553 - val_accuracy: 0.9906\n",
      "Epoch 33/50\n",
      "60000/60000 [==============================] - 11s 177us/sample - loss: 0.0062 - accuracy: 0.9982 - val_loss: 0.0559 - val_accuracy: 0.9904\n",
      "Epoch 34/50\n",
      "60000/60000 [==============================] - 11s 178us/sample - loss: 0.0045 - accuracy: 0.9986 - val_loss: 0.0412 - val_accuracy: 0.9921\n",
      "Epoch 35/50\n",
      "60000/60000 [==============================] - 11s 179us/sample - loss: 0.0047 - accuracy: 0.9986 - val_loss: 0.0383 - val_accuracy: 0.9928\n",
      "Epoch 36/50\n",
      "60000/60000 [==============================] - 11s 177us/sample - loss: 0.0058 - accuracy: 0.9982 - val_loss: 0.0555 - val_accuracy: 0.9913\n",
      "Epoch 37/50\n",
      "60000/60000 [==============================] - 11s 179us/sample - loss: 0.0064 - accuracy: 0.9981 - val_loss: 0.0481 - val_accuracy: 0.9918\n",
      "Epoch 38/50\n",
      "60000/60000 [==============================] - 11s 178us/sample - loss: 0.0040 - accuracy: 0.9987 - val_loss: 0.0439 - val_accuracy: 0.9934\n",
      "Epoch 39/50\n",
      "60000/60000 [==============================] - 11s 177us/sample - loss: 0.0048 - accuracy: 0.9985 - val_loss: 0.0364 - val_accuracy: 0.9937\n",
      "Epoch 40/50\n",
      "60000/60000 [==============================] - 11s 177us/sample - loss: 0.0031 - accuracy: 0.9990 - val_loss: 0.0516 - val_accuracy: 0.9921\n",
      "Epoch 41/50\n",
      "60000/60000 [==============================] - 11s 176us/sample - loss: 0.0050 - accuracy: 0.9986 - val_loss: 0.0574 - val_accuracy: 0.9924\n",
      "Epoch 42/50\n",
      "60000/60000 [==============================] - 11s 180us/sample - loss: 0.0048 - accuracy: 0.9987 - val_loss: 0.0422 - val_accuracy: 0.9920\n",
      "Epoch 43/50\n",
      "60000/60000 [==============================] - 11s 180us/sample - loss: 0.0069 - accuracy: 0.9979 - val_loss: 0.0554 - val_accuracy: 0.9918\n",
      "Epoch 44/50\n",
      "60000/60000 [==============================] - 11s 180us/sample - loss: 0.0029 - accuracy: 0.9991 - val_loss: 0.0498 - val_accuracy: 0.9920\n",
      "Epoch 45/50\n",
      "60000/60000 [==============================] - 11s 179us/sample - loss: 0.0053 - accuracy: 0.9982 - val_loss: 0.0473 - val_accuracy: 0.9928\n",
      "Epoch 46/50\n",
      "60000/60000 [==============================] - 11s 178us/sample - loss: 0.0041 - accuracy: 0.9987 - val_loss: 0.0567 - val_accuracy: 0.9912\n",
      "Epoch 47/50\n",
      "60000/60000 [==============================] - 11s 179us/sample - loss: 0.0053 - accuracy: 0.9981 - val_loss: 0.0459 - val_accuracy: 0.9932\n",
      "Epoch 48/50\n",
      "60000/60000 [==============================] - 11s 180us/sample - loss: 0.0033 - accuracy: 0.9991 - val_loss: 0.0483 - val_accuracy: 0.9934\n",
      "Epoch 49/50\n",
      "60000/60000 [==============================] - 11s 178us/sample - loss: 0.0025 - accuracy: 0.9994 - val_loss: 0.0509 - val_accuracy: 0.9928\n",
      "Epoch 50/50\n",
      "60000/60000 [==============================] - 11s 179us/sample - loss: 0.0051 - accuracy: 0.9986 - val_loss: 0.0662 - val_accuracy: 0.9911\n"
     ]
    }
   ],
   "source": [
    "history = fashion_model.fit(x_train, y_train, batch_size=100, epochs=50, validation_data=(x_test, y_test))"
   ]
  },
  {
   "cell_type": "code",
   "execution_count": 21,
   "metadata": {},
   "outputs": [
    {
     "data": {
      "text/plain": [
       "(0.9, 1)"
      ]
     },
     "execution_count": 21,
     "metadata": {},
     "output_type": "execute_result"
    },
    {
     "data": {
      "image/png": "[encoded data removed]",
      "text/plain": [
       "<Figure size 432x288 with 1 Axes>"
      ]
     },
     "metadata": {
      "needs_background": "light"
     },
     "output_type": "display_data"
    }
   ],
   "source": [
    "plt.plot(history.history['accuracy'], label = 'accuracy')\n",
    "plt.plot(history.history['val_accuracy'], label = 'val_accuracy')\n",
    "plt.xlabel('epochs')\n",
    "plt.ylabel('accuracy')\n",
    "plt.ylim(0.9, 1)"
   ]
  },
  {
   "cell_type": "code",
   "execution_count": 22,
   "metadata": {},
   "outputs": [
    {
     "data": {
      "text/plain": [
       "(0, 0.3)"
      ]
     },
     "execution_count": 22,
     "metadata": {},
     "output_type": "execute_result"
    },
    {
     "data": {
      "image/png": "[encoded data removed]",
      "text/plain": [
       "<Figure size 432x288 with 1 Axes>"
      ]
     },
     "metadata": {
      "needs_background": "light"
     },
     "output_type": "display_data"
    }
   ],
   "source": [
    "plt.plot(history.history['loss'], label='loss')\n",
    "plt.plot(history.history['val_loss'], label = 'val_loss')\n",
    "plt.xlabel('epochs')\n",
    "plt.ylabel('loss')\n",
    "plt.ylim(0, 0.3)"
   ]
  },
  {
   "cell_type": "code",
   "execution_count": null,
   "metadata": {},
   "outputs": [],
   "source": []
  }
 ],
 "metadata": {
  "kernelspec": {
   "display_name": "Python 3",
   "language": "python",
   "name": "python3"
  },
  "language_info": {
   "codemirror_mode": {
    "name": "ipython",
    "version": 3
   },
   "file_extension": ".py",
   "mimetype": "text/x-python",
   "name": "python",
   "nbconvert_exporter": "python",
   "pygments_lexer": "ipython3",
   "version": "3.7.4"
  }
 },
 "nbformat": 4,
 "nbformat_minor": 2
}
