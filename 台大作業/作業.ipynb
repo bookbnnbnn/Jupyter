{
 "cells": [
  {
   "cell_type": "markdown",
   "metadata": {},
   "source": [
    "## 325 鄭書承\n",
    "# 目標：\n",
    "1. 利用爬蟲抓取台股歷史資料\n",
    "2. 配合交易方式打造一個回測並可以持續更新的程式\n",
    "3. 在每日收盤結束後自動更新資料\n",
    "4. 若有符合買進或賣出的點會透過LINE通知明天應該買入或賣出多少股票"
   ]
  },
  {
   "cell_type": "code",
   "execution_count": 470,
   "metadata": {},
   "outputs": [],
   "source": [
    "def lineNotify(stock_id, flag, shares, line_token):\n",
    "    import requests\n",
    "    msg = f\"{flag}{stock_id} {shares}股\"\n",
    "    stickerPackageId = 2\n",
    "    stickerId = 34\n",
    "    url = \"https://notify-api.line.me/api/notify\"\n",
    "    headers = {\n",
    "        \"Authorization\": \"Bearer \" + line_token\n",
    "    }\n",
    "   \n",
    "    payload = {\"message\": msg, \"stickerPackageId\": stickerPackageId, 'stickerId': stickerId}\n",
    "    r = requests.post(url, headers = headers, params = payload)\n",
    "    return r.status_code"
   ]
  },
  {
   "cell_type": "code",
   "execution_count": 471,
   "metadata": {},
   "outputs": [],
   "source": [
    "def goodinfo_crawler(stock_id):\n",
    "    import requests\n",
    "    from bs4 import BeautifulSoup\n",
    "    headers = {\n",
    "        \"user-agent\": \"Mozilla/5.0 (Linux; Android 6.0; Nexus 5 Build/MRA58N) AppleWebKit/537.36 (KHTML, like Gecko) Chrome/80.0.3987.149 Mobile Safari/537.36\"\n",
    "    }\n",
    "    req = requests.get(f\"https://goodinfo.tw/StockInfo/ShowBuySaleChart.asp?STOCK_ID={stock_id}&CHT_CAT=DATE\", headers = headers)\n",
    "    req.encoding = 'utf-8'\n",
    "    soup = BeautifulSoup(req.text, \"html.parser\")\n",
    "    date = soup.select(\"#row0 > td:nth-child(1)\")[0].text\n",
    "    return {\n",
    "        \"foreign_investor\":soup.select(\"#row0 > td:nth-child(8)\")[0].text,   #當天外資買賣張數\n",
    "        \"investment_trust\":soup.select(\"#row0 > td:nth-child(13)\")[0].text   #當天投信買賣張數\n",
    "    }, date\n"
   ]
  },
  {
   "cell_type": "code",
   "execution_count": 472,
   "metadata": {},
   "outputs": [],
   "source": [
    "def fugle_api_crawler(stock_id, fugle_token): \n",
    "    import requests\n",
    "    payload = {\n",
    "        \"symbolId\":f\"{stock_id}\",\n",
    "        \"apiToken\":fugle_token\n",
    "    }\n",
    "    req1 = requests.get(\"https://api.fugle.tw/realtime/v0/intraday/quote?\", params = payload)\n",
    "    json_data1 = req1.json()['data']['quote']\n",
    "    req2 = requests.get(\"https://api.fugle.tw/realtime/v0/intraday/meta?\", params = payload)\n",
    "    json_data2 = req2.json()['data']['meta']\n",
    "    #當天的開高低收\n",
    "    return {\n",
    "        'priceOpen':json_data1['priceOpen']['price'],\n",
    "        'priceHigh':json_data1['priceHigh']['price'],\n",
    "        'priceLow':json_data1['priceLow']['price'],\n",
    "        'priceClose':json_data1['trade']['price'],\n",
    "    }"
   ]
  },
  {
   "cell_type": "code",
   "execution_count": 473,
   "metadata": {},
   "outputs": [],
   "source": [
    "def goodinfo_crawler_pastdata(stock_id):\n",
    "    import requests\n",
    "    from bs4 import BeautifulSoup\n",
    "    import pandas as pd\n",
    "    from selenium import webdriver\n",
    "    from selenium.webdriver.support.ui import Select\n",
    "    import time\n",
    "    from datetime import datetime\n",
    "    url1 = f\"https://goodinfo.tw/StockInfo/ShowBuySaleChart.asp?STOCK_ID={stock_id}&CHT_CAT=DATE\"\n",
    "    url2 = f\"https://goodinfo.tw/StockInfo/ShowK_Chart.asp?STOCK_ID={stock_id}&CHT_CAT2=DATE\"\n",
    "    driver1 = webdriver.Chrome()\n",
    "    driver2 = webdriver.Chrome()\n",
    "    driver1.implicitly_wait(5)\n",
    "    driver2.implicitly_wait(5)\n",
    "    driver1.get(url1)\n",
    "    driver2.get(url2)\n",
    "    #抓取歷史法人買賣張數\n",
    "    s1 = Select(driver1.find_element_by_css_selector('#divBuySaleDetailData > table > tbody > tr > td > table > tbody > tr > td:nth-child(2) > nobr:nth-child(1) > select'))\n",
    "    #抓取歷史股價\n",
    "    s2 = Select(driver2.find_element_by_css_selector('#selK_ChartPeriod'))\n",
    "    s1.select_by_visible_text('一年')\n",
    "    s2.select_by_visible_text('一年')\n",
    "    time.sleep(5)\n",
    "    soup1 = BeautifulSoup(driver1.page_source, 'html.parser')\n",
    "    soup2 = BeautifulSoup(driver2.page_source, 'html.parser')\n",
    "    df = pd.DataFrame({})\n",
    "\n",
    "    for i in range(241):\n",
    "        data = { \n",
    "            \"priceOpen\":soup2.select(f\"#row{i} > td:nth-child(2) > nobr\")[0].text,\n",
    "            \"priceHigh\":soup2.select(f\"#row{i} > td:nth-child(3) > nobr\")[0].text,\n",
    "            \"priceLow\":soup2.select(f\"#row{i} > td:nth-child(4) > nobr\")[0].text,\n",
    "            \"priceClose\":soup2.select(f\"#row{i} > td:nth-child(5) > nobr\")[0].text,\n",
    "            \"foreign_investor\":soup1.select(f\"#row{i} > td:nth-child(8)\")[0].text.lstrip(\"+\").replace(\",\", \"\"),\n",
    "            \"investment_trust\":soup1.select(f\"#row{i} > td:nth-child(13)\")[0].text.lstrip(\"+\").replace(\",\", \"\"), \n",
    "        }\n",
    "        date = soup1.select(f\"#row{i} > td:nth-child(1)\")[0].text\n",
    "        date = datetime.strptime(date, \"%y'%m/%d\")\n",
    "        ser = pd.Series(data, name = date)\n",
    "        df = df.append(ser)\n",
    "        print(stock_id, date)\n",
    "    for index, row in df.iterrows():\n",
    "        if (df.loc[index, \"foreign_investor\"] == \"\") or (df.loc[index, \"investment_trust\"] == \"\"):\n",
    "            df = df.drop(index)\n",
    "    driver1.close()\n",
    "    driver2.close()\n",
    "    df = df.sort_index()\n",
    "    df = df.astype('float64')\n",
    "    return df\n"
   ]
  },
  {
   "cell_type": "code",
   "execution_count": 480,
   "metadata": {},
   "outputs": [],
   "source": [
    "def trading1(df, balance, stock_id, fee, tax, line_token):\n",
    "    import pandas as pd\n",
    "    import numpy as np\n",
    "    df['buy_or_sell'] = np.zeros(len(df)).reshape((len(df)), 1)    #先將明天買賣股數設為0\n",
    "    df['shares'] = np.zeros(len(df)).reshape((len(df)), 1)   #先將股數設為0\n",
    "    df['balance'] = np.zeros(len(df)).reshape((len(df)), 1)  #先將餘額設為0\n",
    "    df.iloc[0, -1] = balance   #將一開始的餘額設成輸入的值\n",
    "    df['income'] = np.zeros(len(df)).reshape((len(df)), 1)   #先將損益設為0\n",
    "    df['profit'] = np.zeros(len(df)).reshape((len(df)), 1)   #先將報酬率設為0\n",
    "    df['last_close'] = df['priceClose'].shift(1)  #今天收盤價是明天的昨收價\n",
    "    df['ten_ma'] = df['priceClose'].rolling(10).mean()  #十日平均\n",
    "    df['IT_flag'] = df['investment_trust'] > 0   #投信是否買超\n",
    "    df['IT_buy_days'] = df['IT_flag'].rolling(3).sum()   #投信這三天買超的天數\n",
    "    #當投信連續買超 且 外資今天也買超 且 大於十日平均 就設為買進訊號\n",
    "    df['buy_flag'] = (df['IT_buy_days'] == 3) & (df['foreign_investor'] > 0) & (df['priceClose'] > df['ten_ma'])\n",
    "    #當投信不再連續買超 或 收盤價小於十日平均 就設為賣出訊號\n",
    "    df['sell_flag'] = (df['investment_trust'] < 0) | (df['priceClose'] < df['ten_ma'])      \n",
    "    count = 0\n",
    "    win_times = 0    \n",
    "    for index, row in df.iterrows():\n",
    "        #因為第一天沒有昨天的資料所以會出現Error，因此使用try\n",
    "        try:\n",
    "            \n",
    "            df.loc[index, 'shares'] = yesterday.shares    #先將今天的股數設成和昨天一樣若有買賣再運算\n",
    "            df.loc[index, 'balance'] = yesterday.balance  #先將今天的餘額設成和昨天一樣若有買賣再運算\n",
    "            #當昨天的應買賣股數不等於0時，代表今天會執行買賣\n",
    "            #(附註1：因為三大法人買賣超收盤之後才會知道因此所有動作都只能隔一天才能執行)\n",
    "            if yesterday.buy_or_sell != 0 :\n",
    "                df.loc[index, 'buy_or_sell'] = 0    #將應買賣股數變回0\n",
    "                df.loc[index, 'shares'] = yesterday.shares + yesterday.buy_or_sell   #今日庫存股數為昨日股數加上應買股數\n",
    "                #今日餘額為昨日餘額加上今天交易股數乘上今天開盤價扣掉手續費和證交稅\n",
    "                df.loc[index, 'balance'] = yesterday.balance - yesterday.buy_or_sell*df.loc[index, 'priceOpen']*(1- (fee + tax) / 100)  \n",
    "                \n",
    "            #當今天買進訊號出現的時候 且 今天的餘額夠買一張股票 明天開盤就買進\n",
    "            #(附註2：應該使用明天的開盤價，不過明天還沒開盤不會知道開盤價，所以用今天收盤的漲停價來推算餘額夠不夠)\n",
    "            elif (df.loc[index, 'buy_flag']) and ((df.loc[index, 'balance'] - df.loc[index, 'priceClose'] * 1.1 * 1000) > 0):  \n",
    "                shares = int(df.loc[index, 'balance'] / (df.loc[index, 'priceClose'] * 1.1 * 1000))   #先估算餘額可以買幾股\n",
    "                df.loc[index, 'buy_or_sell'] = shares * 1000  #將預估購買的股數填入\n",
    "                lineNotify(stock_id, \"buy\", df.loc[index, 'buy_or_sell'], line_token)    #line通知什麼股票應該買多少\n",
    "            #當今天賣出訊號出現的時候 且 庫存股票股數大於0 明天開盤就賣出\n",
    "            elif (df.loc[index, 'sell_flag']) and (df.loc[index, 'shares'] > 0):\n",
    "                df.loc[index, 'buy_or_sell'] = int(df.loc[index, 'shares'] * -1)   #將預估賣出的股數填入\n",
    "                sell_shares = df.loc[index, 'buy_or_sell']\n",
    "                lineNotify(stock_id, \"sell\", df.loc[index, 'buy_or_sell'] * -1, line_token)    #line通知什麼股票應該賣多少\n",
    "\n",
    "            if df.loc[index, 'buy_or_sell'] > 0:\n",
    "                before_price1 = df.loc[index, 'priceOpen']\n",
    "                before_price2 = 0\n",
    "                buy_shares = df.loc[index, 'buy_or_sell']\n",
    "                count += 1    #買賣次數加1\n",
    "                if yesterday.shares != 0:\n",
    "                    before_price2 = df.loc[index, 'priceOpen']\n",
    "            elif yesterday.buy_or_sell < 0:\n",
    "                after_price = df.loc[index, 'priceClose']\n",
    "                after_price = after_price * (1- (fee + tax) / 100)\n",
    "                if (after_price > before_price1) or (after_price > before_price2):\n",
    "                    win_times += 1\n",
    "                elif (after_price > before_price1) and (after_price > before_price2):\n",
    "                    win_times += 2\n",
    "            df.loc[index, 'income'] = (df.loc[index, 'priceClose'] * df.loc[index, 'shares'] + df.loc[index, 'balance']) - balance\n",
    "            df.loc[index, 'profit'] = f\"{df.loc[index, 'income']/balance *100:.2f}%\"\n",
    "            yesterday = df.loc[index]    #完成資料更新後將其設為下一天的昨天\n",
    "\n",
    "        except UnboundLocalError:\n",
    "            yesterday = df.loc[index]\n",
    "    print(f\"{stock_id}：勝率{win_times/count * 100:.2f}% 報酬率{df.iloc[-1, -7]}\")\n",
    "    return df\n",
    "\n"
   ]
  },
  {
   "cell_type": "code",
   "execution_count": 481,
   "metadata": {},
   "outputs": [],
   "source": [
    "def backtesting(balance):\n",
    "    import pygsheets\n",
    "    import pandas as pd\n",
    "    import numpy as np\n",
    "    gc = pygsheets.authorize(service_account_file=r\"C:\\Users\\j3192\\Desktop\\Jupyter Notebook\\台大程式課程\\ntu_pyxl_lesson10\\pyxl-271804-be731475b523.json\")\n",
    "    wb = gc.open_by_url(\"https://docs.google.com/spreadsheets/d/1SJ9YRMvoChR8F2nb1H8rxjR5vClyINSIjlcrLsSw6Nk/edit#gid=0\")\n",
    "    wks = wb.worksheet_by_title(\"追蹤清單\")\n",
    "    stock_list = wks.get_col(1, include_tailing_empty=False)\n",
    "    fee = float(wks.cell(\"H1\").value)*0.6*2\n",
    "    tax = float(wks.cell(\"H2\").value)\n",
    "    fugle_token = wks.cell(\"K1\").value\n",
    "    line_token = wks.cell(\"K2\").value\n",
    "    for stock_id in stock_list:\n",
    "        try:\n",
    "            wks = wb.worksheet_by_title(str(stock_id))\n",
    "            cols = len(wks.get_col(1, include_tailing_empty = False))\n",
    "            df = wks.get_as_df(index_column = 1, end = (cols, 7))\n",
    "            data1, date = goodinfo_crawler(str(stock_id))\n",
    "            data2 = fugle_api_crawler(str(stock_id), fugle_token)\n",
    "            data = {**data1, **data2}    #合併dict\n",
    "            ser = pd.Series(data, name = date)\n",
    "            df.append(ser) \n",
    "        except: \n",
    "            wks = wb.add_worksheet(str(stock_id), rows=100, cols=26, src_tuple=None, index=None)\n",
    "            df = goodinfo_crawler_pastdata(stock_id)\n",
    "\n",
    "        result_df = trading1(df, balance, stock_id, fee, tax, line_token)\n",
    "        wks.set_dataframe(result_df.loc[:, \"foreign_investor\":\"profit\"], 'A1', copy_index=True)\n",
    "        wks.refresh()"
   ]
  },
  {
   "cell_type": "code",
   "execution_count": 482,
   "metadata": {
    "scrolled": true
   },
   "outputs": [
    {
     "name": "stdout",
     "output_type": "stream",
     "text": [
      "2337：勝率60.00% 報酬率24.03%\n",
      "2884：勝率62.50% 報酬率4.25%\n",
      "2882：勝率75.00% 報酬率3.23%\n",
      "2313：勝率54.55% 報酬率66.27%\n",
      "2330：勝率100.00% 報酬率20.15%\n",
      "2368：勝率28.57% 報酬率2.90%\n",
      "2456：勝率90.00% 報酬率28.35%\n"
     ]
    }
   ],
   "source": [
    "df = backtesting(1000000)"
   ]
  },
  {
   "cell_type": "markdown",
   "metadata": {},
   "source": [
    "![](r\"C:\\Users\\j3192\\Desktop\\擷取.PNG\")"
   ]
  },
  {
   "cell_type": "markdown",
   "metadata": {},
   "source": [
    "![](擷取.PNG)"
   ]
  },
  {
   "cell_type": "markdown",
   "metadata": {},
   "source": [
    "![](擷取1.PNG)"
   ]
  },
  {
   "cell_type": "markdown",
   "metadata": {},
   "source": [
    "# 總結\n",
    "### 缺點\n",
    "1. 原先想要將程式架構在GCP上，並用Google Scheduler每天自動更新資料，但因為爬取的網站需要下拉式選單選取資料時間長度，而我只想到用Selenium方式抓取資料，但無法用Cloud Function上開啟一個模擬瀏覽器\n",
    "2. 利用Selenium的方式爬蟲速度緩慢，且用for迴圈一列一列抓取速度又更慢，不過有歷史資料的網站不是沒有法人買賣超，就是資料被隱藏或會阻擋爬蟲  \n",
    "\n",
    "### 解決方案\n",
    "將Cloud Function中使用到Selenium的程式碼移除，並利用Google Scheduler每天自動更新資料，但當追蹤清單想加入新的股票時需先手動執行程式  \n",
    "(嘗試使用GCP Computer Engine設定排程執行，但有點不太知道該怎麼處理)"
   ]
  }
 ],
 "metadata": {
  "kernelspec": {
   "display_name": "Python 3",
   "language": "python",
   "name": "python3"
  },
  "language_info": {
   "codemirror_mode": {
    "name": "ipython",
    "version": 3
   },
   "file_extension": ".py",
   "mimetype": "text/x-python",
   "name": "python",
   "nbconvert_exporter": "python",
   "pygments_lexer": "ipython3",
   "version": "3.7.4"
  }
 },
 "nbformat": 4,
 "nbformat_minor": 2
}
