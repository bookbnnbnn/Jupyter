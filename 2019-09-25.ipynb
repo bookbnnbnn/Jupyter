{
 "cells": [
  {
   "cell_type": "code",
   "execution_count": 1,
   "metadata": {},
   "outputs": [],
   "source": [
    "%matplotlib inline\n",
    "import matplotlib.pyplot as plt\n",
    "import numpy as np\n",
    "import pandas as pd"
   ]
  },
  {
   "cell_type": "code",
   "execution_count": 4,
   "metadata": {},
   "outputs": [
    {
     "name": "stdout",
     "output_type": "stream",
     "text": [
      "5050\n"
     ]
    }
   ],
   "source": [
    "s = 0\n",
    "for i in range(101):\n",
    "    s += i\n",
    "print(s)"
   ]
  },
  {
   "cell_type": "markdown",
   "metadata": {},
   "source": [
    "### map\n",
    "map(f, L)\n",
    "把f函數作用到L list中的每個元素"
   ]
  },
  {
   "cell_type": "code",
   "execution_count": 25,
   "metadata": {},
   "outputs": [],
   "source": [
    "L = \"333   45 678  527\""
   ]
  },
  {
   "cell_type": "code",
   "execution_count": 26,
   "metadata": {},
   "outputs": [
    {
     "data": {
      "text/plain": [
       "['333', '45', '678', '527']"
      ]
     },
     "execution_count": 26,
     "metadata": {},
     "output_type": "execute_result"
    }
   ],
   "source": [
    "L = L.split()\n",
    "L"
   ]
  },
  {
   "cell_type": "code",
   "execution_count": 27,
   "metadata": {},
   "outputs": [],
   "source": [
    "def exchange(x):\n",
    "    return float(x)*30 "
   ]
  },
  {
   "cell_type": "code",
   "execution_count": 29,
   "metadata": {},
   "outputs": [
    {
     "data": {
      "text/plain": [
       "[9990.0, 1350.0, 20340.0, 15810.0]"
      ]
     },
     "execution_count": 29,
     "metadata": {},
     "output_type": "execute_result"
    }
   ],
   "source": [
    "list(map(exchange, L))"
   ]
  },
  {
   "cell_type": "code",
   "execution_count": 30,
   "metadata": {},
   "outputs": [
    {
     "data": {
      "text/plain": [
       "[9990.0, 1350.0, 20340.0, 15810.0]"
      ]
     },
     "execution_count": 30,
     "metadata": {},
     "output_type": "execute_result"
    }
   ],
   "source": [
    "list(map(lambda x: float(x)*30, L))"
   ]
  },
  {
   "cell_type": "markdown",
   "metadata": {},
   "source": [
    "### list comprehension"
   ]
  },
  {
   "cell_type": "code",
   "execution_count": 31,
   "metadata": {},
   "outputs": [
    {
     "data": {
      "text/plain": [
       "[9990.0, 1350.0, 20340.0, 15810.0]"
      ]
     },
     "execution_count": 31,
     "metadata": {},
     "output_type": "execute_result"
    }
   ],
   "source": [
    "[float(x)*30 for x in L]"
   ]
  },
  {
   "cell_type": "code",
   "execution_count": 34,
   "metadata": {},
   "outputs": [
    {
     "name": "stdout",
     "output_type": "stream",
     "text": [
      "\u001b[30mHello, World\n",
      "\u001b[31mHello, World\n",
      "\u001b[32mHello, World\n",
      "\u001b[33mHello, World\n",
      "\u001b[34mHello, World\n",
      "\u001b[35mHello, World\n",
      "\u001b[36mHello, World\n",
      "\u001b[37mHello, World\n"
     ]
    }
   ],
   "source": [
    "for i in range(8):\n",
    "    print(f\"\\033[3{i}mHello, World\")"
   ]
  },
  {
   "cell_type": "code",
   "execution_count": 35,
   "metadata": {},
   "outputs": [
    {
     "name": "stdout",
     "output_type": "stream",
     "text": [
      "\u001b[40mHello, World\n",
      "\u001b[41mHello, World\n",
      "\u001b[42mHello, World\n",
      "\u001b[43mHello, World\n",
      "\u001b[44mHello, World\n",
      "\u001b[45mHello, World\n",
      "\u001b[46mHello, World\n",
      "\u001b[47mHello, World\n"
     ]
    }
   ],
   "source": [
    "for i in range(8):\n",
    "    print(f\"\\033[4{i}mHello, World\")"
   ]
  },
  {
   "cell_type": "code",
   "execution_count": 43,
   "metadata": {},
   "outputs": [
    {
     "name": "stdout",
     "output_type": "stream",
     "text": [
      "\u001b[0mHello, World\n",
      "\u001b[1mHello, World\n",
      "\u001b[2mHello, World\n",
      "\u001b[3mHello, World\n",
      "\u001b[4mHello, World\n",
      "\u001b[5mHello, World\n",
      "\u001b[6mHello, World\n",
      "\u001b[7mHello, World\n"
     ]
    }
   ],
   "source": [
    "for i in range(8):\n",
    "    print(f\"\\033[{i}mHello, World\")"
   ]
  },
  {
   "cell_type": "code",
   "execution_count": 46,
   "metadata": {},
   "outputs": [
    {
     "name": "stdout",
     "output_type": "stream",
     "text": [
      "\u001b[4;31;43mHello, World\n",
      "Hello, World\n"
     ]
    }
   ],
   "source": [
    "print(f\"\\033[4;31;43mHello, World\")\n",
    "print(\"Hello, World\")"
   ]
  },
  {
   "cell_type": "code",
   "execution_count": 48,
   "metadata": {},
   "outputs": [
    {
     "name": "stdout",
     "output_type": "stream",
     "text": [
      "\u001b[4;31;43mHello, World\u001b[0m\n",
      "Hello, World\n"
     ]
    }
   ],
   "source": [
    "#加入後面的東西才會使格式輝會會復原狀不然就會沿用之前的格式\n",
    "print(f\"\\033[4;31;43mHello, World\\033[0m\")\n",
    "print(\"Hello, World\")"
   ]
  },
  {
   "cell_type": "code",
   "execution_count": 7,
   "metadata": {},
   "outputs": [
    {
     "name": "stdout",
     "output_type": "stream",
     "text": [
      "請輸入你猜的數字:1234\n",
      "[7 1 2 4]\n",
      "1A2B\n",
      "請輸入你猜的數字:7124\n",
      "[7 1 2 4]\n",
      "4A0B\n",
      "答案是: 7124\n"
     ]
    }
   ],
   "source": [
    "L = list(range(10))\n",
    "ans = np.random.choice(L, 4, replace = False)\n",
    "while True:\n",
    "    A_count = 0\n",
    "    B_count = 0\n",
    "    num = input(\"請輸入你猜的數字:\")\n",
    "    for i in range(4):\n",
    "        if int(num[i]) == ans[i]:\n",
    "            A_count += 1\n",
    "        elif int(num[i]) in ans:\n",
    "            B_count += 1\n",
    "    print(ans)\n",
    "    print(f\"{A_count}A{B_count}B\")\n",
    "    if A_count == 4:\n",
    "        ans = [str(i) for i in ans]\n",
    "        print(\"答案是:\", \"\".join(ans))\n",
    "        break"
   ]
  },
  {
   "cell_type": "code",
   "execution_count": null,
   "metadata": {},
   "outputs": [],
   "source": []
  }
 ],
 "metadata": {
  "kernelspec": {
   "display_name": "Python 3",
   "language": "python",
   "name": "python3"
  },
  "language_info": {
   "codemirror_mode": {
    "name": "ipython",
    "version": 3
   },
   "file_extension": ".py",
   "mimetype": "text/x-python",
   "name": "python",
   "nbconvert_exporter": "python",
   "pygments_lexer": "ipython3",
   "version": "3.7.4"
  }
 },
 "nbformat": 4,
 "nbformat_minor": 2
}
